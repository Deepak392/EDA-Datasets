{
 "cells": [
  {
   "cell_type": "code",
   "execution_count": 364,
   "metadata": {},
   "outputs": [],
   "source": [
    "import numpy as np\n",
    "import pandas as pd\n",
    "import matplotlib.pyplot as plt\n",
    "import seaborn as sns"
   ]
  },
  {
   "cell_type": "code",
   "execution_count": 365,
   "metadata": {},
   "outputs": [
    {
     "name": "stderr",
     "output_type": "stream",
     "text": [
      "<>:1: SyntaxWarning: invalid escape sequence '\\D'\n",
      "<>:1: SyntaxWarning: invalid escape sequence '\\D'\n",
      "C:\\Users\\Deepa\\AppData\\Local\\Temp\\ipykernel_21152\\3241768011.py:1: SyntaxWarning: invalid escape sequence '\\D'\n",
      "  df = pd.read_csv(\"C:\\\\Users\\Deepa\\Downloads\\Walt_disney_movie_dataset.csv\")\n"
     ]
    }
   ],
   "source": [
    "df = pd.read_csv(\"C:\\\\Users\\Deepa\\Downloads\\Walt_disney_movie_dataset.csv\")"
   ]
  },
  {
   "cell_type": "code",
   "execution_count": 366,
   "metadata": {},
   "outputs": [
    {
     "data": {
      "text/html": [
       "<div>\n",
       "<style scoped>\n",
       "    .dataframe tbody tr th:only-of-type {\n",
       "        vertical-align: middle;\n",
       "    }\n",
       "\n",
       "    .dataframe tbody tr th {\n",
       "        vertical-align: top;\n",
       "    }\n",
       "\n",
       "    .dataframe thead th {\n",
       "        text-align: right;\n",
       "    }\n",
       "</style>\n",
       "<table border=\"1\" class=\"dataframe\">\n",
       "  <thead>\n",
       "    <tr style=\"text-align: right;\">\n",
       "      <th></th>\n",
       "      <th>Unnamed: 0</th>\n",
       "      <th>title</th>\n",
       "      <th>Production company</th>\n",
       "      <th>Release date</th>\n",
       "      <th>Running time</th>\n",
       "      <th>Country</th>\n",
       "      <th>Language</th>\n",
       "      <th>Box office</th>\n",
       "      <th>Running time (int)</th>\n",
       "      <th>Budget (float)</th>\n",
       "      <th>...</th>\n",
       "      <th>Screenplay by</th>\n",
       "      <th>Countries</th>\n",
       "      <th>Production companies</th>\n",
       "      <th>Color process</th>\n",
       "      <th>Japanese</th>\n",
       "      <th>Hepburn</th>\n",
       "      <th>Adaptation by</th>\n",
       "      <th>Animation by</th>\n",
       "      <th>Traditional</th>\n",
       "      <th>Simplified</th>\n",
       "    </tr>\n",
       "  </thead>\n",
       "  <tbody>\n",
       "    <tr>\n",
       "      <th>0</th>\n",
       "      <td>0</td>\n",
       "      <td>Academy Award Review of</td>\n",
       "      <td>Walt Disney Productions</td>\n",
       "      <td>['May 19, 1937']</td>\n",
       "      <td>41 minutes (74 minutes 1966 release)</td>\n",
       "      <td>United States</td>\n",
       "      <td>English</td>\n",
       "      <td>$45.472</td>\n",
       "      <td>41.0</td>\n",
       "      <td>NaN</td>\n",
       "      <td>...</td>\n",
       "      <td>NaN</td>\n",
       "      <td>NaN</td>\n",
       "      <td>NaN</td>\n",
       "      <td>NaN</td>\n",
       "      <td>NaN</td>\n",
       "      <td>NaN</td>\n",
       "      <td>NaN</td>\n",
       "      <td>NaN</td>\n",
       "      <td>NaN</td>\n",
       "      <td>NaN</td>\n",
       "    </tr>\n",
       "    <tr>\n",
       "      <th>1</th>\n",
       "      <td>1</td>\n",
       "      <td>Snow White and the Seven Dwarfs</td>\n",
       "      <td>Walt Disney Productions</td>\n",
       "      <td>['December 21, 1937 ( Carthay Circle Theatre )']</td>\n",
       "      <td>83 minutes</td>\n",
       "      <td>United States</td>\n",
       "      <td>English</td>\n",
       "      <td>$418 million</td>\n",
       "      <td>83.0</td>\n",
       "      <td>1490000.0</td>\n",
       "      <td>...</td>\n",
       "      <td>NaN</td>\n",
       "      <td>NaN</td>\n",
       "      <td>NaN</td>\n",
       "      <td>NaN</td>\n",
       "      <td>NaN</td>\n",
       "      <td>NaN</td>\n",
       "      <td>NaN</td>\n",
       "      <td>NaN</td>\n",
       "      <td>NaN</td>\n",
       "      <td>NaN</td>\n",
       "    </tr>\n",
       "    <tr>\n",
       "      <th>2</th>\n",
       "      <td>2</td>\n",
       "      <td>Pinocchio</td>\n",
       "      <td>Walt Disney Productions</td>\n",
       "      <td>['February 7, 1940 ( Center Theatre )', 'Febru...</td>\n",
       "      <td>88 minutes</td>\n",
       "      <td>United States</td>\n",
       "      <td>English</td>\n",
       "      <td>$164 million</td>\n",
       "      <td>88.0</td>\n",
       "      <td>2600000.0</td>\n",
       "      <td>...</td>\n",
       "      <td>NaN</td>\n",
       "      <td>NaN</td>\n",
       "      <td>NaN</td>\n",
       "      <td>NaN</td>\n",
       "      <td>NaN</td>\n",
       "      <td>NaN</td>\n",
       "      <td>NaN</td>\n",
       "      <td>NaN</td>\n",
       "      <td>NaN</td>\n",
       "      <td>NaN</td>\n",
       "    </tr>\n",
       "    <tr>\n",
       "      <th>3</th>\n",
       "      <td>3</td>\n",
       "      <td>Fantasia</td>\n",
       "      <td>Walt Disney Productions</td>\n",
       "      <td>['November 13, 1940']</td>\n",
       "      <td>126 minutes</td>\n",
       "      <td>United States</td>\n",
       "      <td>English</td>\n",
       "      <td>$76.4–$83.3 million (United States and Canada)</td>\n",
       "      <td>126.0</td>\n",
       "      <td>2280000.0</td>\n",
       "      <td>...</td>\n",
       "      <td>NaN</td>\n",
       "      <td>NaN</td>\n",
       "      <td>NaN</td>\n",
       "      <td>NaN</td>\n",
       "      <td>NaN</td>\n",
       "      <td>NaN</td>\n",
       "      <td>NaN</td>\n",
       "      <td>NaN</td>\n",
       "      <td>NaN</td>\n",
       "      <td>NaN</td>\n",
       "    </tr>\n",
       "    <tr>\n",
       "      <th>4</th>\n",
       "      <td>4</td>\n",
       "      <td>The Reluctant Dragon</td>\n",
       "      <td>Walt Disney Productions</td>\n",
       "      <td>['June 27, 1941']</td>\n",
       "      <td>74 minutes</td>\n",
       "      <td>United States</td>\n",
       "      <td>English</td>\n",
       "      <td>$960,000 (worldwide rentals)</td>\n",
       "      <td>74.0</td>\n",
       "      <td>600000.0</td>\n",
       "      <td>...</td>\n",
       "      <td>NaN</td>\n",
       "      <td>NaN</td>\n",
       "      <td>NaN</td>\n",
       "      <td>NaN</td>\n",
       "      <td>NaN</td>\n",
       "      <td>NaN</td>\n",
       "      <td>NaN</td>\n",
       "      <td>NaN</td>\n",
       "      <td>NaN</td>\n",
       "      <td>NaN</td>\n",
       "    </tr>\n",
       "  </tbody>\n",
       "</table>\n",
       "<p>5 rows × 35 columns</p>\n",
       "</div>"
      ],
      "text/plain": [
       "   Unnamed: 0                            title       Production company  \\\n",
       "0           0          Academy Award Review of  Walt Disney Productions   \n",
       "1           1  Snow White and the Seven Dwarfs  Walt Disney Productions   \n",
       "2           2                        Pinocchio  Walt Disney Productions   \n",
       "3           3                         Fantasia  Walt Disney Productions   \n",
       "4           4             The Reluctant Dragon  Walt Disney Productions   \n",
       "\n",
       "                                        Release date  \\\n",
       "0                                   ['May 19, 1937']   \n",
       "1   ['December 21, 1937 ( Carthay Circle Theatre )']   \n",
       "2  ['February 7, 1940 ( Center Theatre )', 'Febru...   \n",
       "3                              ['November 13, 1940']   \n",
       "4                                  ['June 27, 1941']   \n",
       "\n",
       "                           Running time        Country Language  \\\n",
       "0  41 minutes (74 minutes 1966 release)  United States  English   \n",
       "1                            83 minutes  United States  English   \n",
       "2                            88 minutes  United States  English   \n",
       "3                           126 minutes  United States  English   \n",
       "4                            74 minutes  United States  English   \n",
       "\n",
       "                                       Box office  Running time (int)  \\\n",
       "0                                         $45.472                41.0   \n",
       "1                                    $418 million                83.0   \n",
       "2                                    $164 million                88.0   \n",
       "3  $76.4–$83.3 million (United States and Canada)               126.0   \n",
       "4                    $960,000 (worldwide rentals)                74.0   \n",
       "\n",
       "   Budget (float)  ...  Screenplay by Countries Production companies  \\\n",
       "0             NaN  ...            NaN       NaN                  NaN   \n",
       "1       1490000.0  ...            NaN       NaN                  NaN   \n",
       "2       2600000.0  ...            NaN       NaN                  NaN   \n",
       "3       2280000.0  ...            NaN       NaN                  NaN   \n",
       "4        600000.0  ...            NaN       NaN                  NaN   \n",
       "\n",
       "  Color process Japanese Hepburn Adaptation by Animation by Traditional  \\\n",
       "0           NaN      NaN     NaN           NaN          NaN         NaN   \n",
       "1           NaN      NaN     NaN           NaN          NaN         NaN   \n",
       "2           NaN      NaN     NaN           NaN          NaN         NaN   \n",
       "3           NaN      NaN     NaN           NaN          NaN         NaN   \n",
       "4           NaN      NaN     NaN           NaN          NaN         NaN   \n",
       "\n",
       "  Simplified  \n",
       "0        NaN  \n",
       "1        NaN  \n",
       "2        NaN  \n",
       "3        NaN  \n",
       "4        NaN  \n",
       "\n",
       "[5 rows x 35 columns]"
      ]
     },
     "execution_count": 366,
     "metadata": {},
     "output_type": "execute_result"
    }
   ],
   "source": [
    "df.head()"
   ]
  },
  {
   "cell_type": "code",
   "execution_count": 367,
   "metadata": {},
   "outputs": [
    {
     "name": "stdout",
     "output_type": "stream",
     "text": [
      "<class 'pandas.core.frame.DataFrame'>\n",
      "RangeIndex: 452 entries, 0 to 451\n",
      "Data columns (total 35 columns):\n",
      " #   Column                   Non-Null Count  Dtype  \n",
      "---  ------                   --------------  -----  \n",
      " 0   Unnamed: 0               452 non-null    int64  \n",
      " 1   title                    452 non-null    object \n",
      " 2   Production company       190 non-null    object \n",
      " 3   Release date             447 non-null    object \n",
      " 4   Running time             440 non-null    object \n",
      " 5   Country                  403 non-null    object \n",
      " 6   Language                 433 non-null    object \n",
      " 7   Box office               372 non-null    object \n",
      " 8   Running time (int)       440 non-null    float64\n",
      " 9   Budget (float)           284 non-null    float64\n",
      " 10  Box office (float)       365 non-null    float64\n",
      " 11  Release date (datetime)  442 non-null    object \n",
      " 12  Directed by              451 non-null    object \n",
      " 13  Written by               204 non-null    object \n",
      " 14  Based on                 235 non-null    object \n",
      " 15  Produced by              443 non-null    object \n",
      " 16  Starring                 417 non-null    object \n",
      " 17  Music by                 446 non-null    object \n",
      " 18  Distributed by           450 non-null    object \n",
      " 19  Budget                   290 non-null    object \n",
      " 20  Story by                 150 non-null    object \n",
      " 21  Narrated by              56 non-null     object \n",
      " 22  Cinematography           360 non-null    object \n",
      " 23  Edited by                409 non-null    object \n",
      " 24  Languages                18 non-null     object \n",
      " 25  Screenplay by            211 non-null    object \n",
      " 26  Countries                46 non-null     object \n",
      " 27  Production companies     262 non-null    object \n",
      " 28  Color process            3 non-null      object \n",
      " 29  Japanese                 0 non-null      float64\n",
      " 30  Hepburn                  5 non-null      object \n",
      " 31  Adaptation by            1 non-null      object \n",
      " 32  Animation by             2 non-null      object \n",
      " 33  Traditional              0 non-null      float64\n",
      " 34  Simplified               0 non-null      float64\n",
      "dtypes: float64(6), int64(1), object(28)\n",
      "memory usage: 123.7+ KB\n"
     ]
    }
   ],
   "source": [
    "df.info()"
   ]
  },
  {
   "cell_type": "markdown",
   "metadata": {},
   "source": [
    "# *Data cleaning*"
   ]
  },
  {
   "cell_type": "code",
   "execution_count": 368,
   "metadata": {},
   "outputs": [
    {
     "data": {
      "text/plain": [
       "array(['Walt Disney Productions', nan,\n",
       "       'Walt Disney Productions Robert Lawrence Productions',\n",
       "       'Walt Disney Pictures', 'Studio Ghibli', 'Disneynature'],\n",
       "      dtype=object)"
      ]
     },
     "execution_count": 368,
     "metadata": {},
     "output_type": "execute_result"
    }
   ],
   "source": [
    "df['Production company'].unique()"
   ]
  },
  {
   "cell_type": "code",
   "execution_count": 369,
   "metadata": {},
   "outputs": [
    {
     "data": {
      "text/plain": [
       "Production company\n",
       "Walt Disney Productions                                151\n",
       "Walt Disney Pictures                                    31\n",
       "Studio Ghibli                                            5\n",
       "Disneynature                                             2\n",
       "Walt Disney Productions Robert Lawrence Productions      1\n",
       "Name: count, dtype: int64"
      ]
     },
     "execution_count": 369,
     "metadata": {},
     "output_type": "execute_result"
    }
   ],
   "source": [
    "df['Production company'].value_counts()"
   ]
  },
  {
   "cell_type": "code",
   "execution_count": 370,
   "metadata": {},
   "outputs": [
    {
     "data": {
      "text/html": [
       "<div>\n",
       "<style scoped>\n",
       "    .dataframe tbody tr th:only-of-type {\n",
       "        vertical-align: middle;\n",
       "    }\n",
       "\n",
       "    .dataframe tbody tr th {\n",
       "        vertical-align: top;\n",
       "    }\n",
       "\n",
       "    .dataframe thead th {\n",
       "        text-align: right;\n",
       "    }\n",
       "</style>\n",
       "<table border=\"1\" class=\"dataframe\">\n",
       "  <thead>\n",
       "    <tr style=\"text-align: right;\">\n",
       "      <th></th>\n",
       "      <th>Unnamed: 0</th>\n",
       "      <th>title</th>\n",
       "      <th>Production company</th>\n",
       "      <th>Release date</th>\n",
       "      <th>Running time</th>\n",
       "      <th>Country</th>\n",
       "      <th>Language</th>\n",
       "      <th>Box office</th>\n",
       "      <th>Running time (int)</th>\n",
       "      <th>Budget (float)</th>\n",
       "      <th>...</th>\n",
       "      <th>Screenplay by</th>\n",
       "      <th>Countries</th>\n",
       "      <th>Production companies</th>\n",
       "      <th>Color process</th>\n",
       "      <th>Japanese</th>\n",
       "      <th>Hepburn</th>\n",
       "      <th>Adaptation by</th>\n",
       "      <th>Animation by</th>\n",
       "      <th>Traditional</th>\n",
       "      <th>Simplified</th>\n",
       "    </tr>\n",
       "  </thead>\n",
       "  <tbody>\n",
       "    <tr>\n",
       "      <th>0</th>\n",
       "      <td>0</td>\n",
       "      <td>Academy Award Review of</td>\n",
       "      <td>Walt Disney Productions</td>\n",
       "      <td>['May 19, 1937']</td>\n",
       "      <td>41 minutes (74 minutes 1966 release)</td>\n",
       "      <td>United States</td>\n",
       "      <td>English</td>\n",
       "      <td>$45.472</td>\n",
       "      <td>41.0</td>\n",
       "      <td>NaN</td>\n",
       "      <td>...</td>\n",
       "      <td>NaN</td>\n",
       "      <td>NaN</td>\n",
       "      <td>NaN</td>\n",
       "      <td>NaN</td>\n",
       "      <td>NaN</td>\n",
       "      <td>NaN</td>\n",
       "      <td>NaN</td>\n",
       "      <td>NaN</td>\n",
       "      <td>NaN</td>\n",
       "      <td>NaN</td>\n",
       "    </tr>\n",
       "    <tr>\n",
       "      <th>1</th>\n",
       "      <td>1</td>\n",
       "      <td>Snow White and the Seven Dwarfs</td>\n",
       "      <td>Walt Disney Productions</td>\n",
       "      <td>['December 21, 1937 ( Carthay Circle Theatre )']</td>\n",
       "      <td>83 minutes</td>\n",
       "      <td>United States</td>\n",
       "      <td>English</td>\n",
       "      <td>$418 million</td>\n",
       "      <td>83.0</td>\n",
       "      <td>1490000.0</td>\n",
       "      <td>...</td>\n",
       "      <td>NaN</td>\n",
       "      <td>NaN</td>\n",
       "      <td>NaN</td>\n",
       "      <td>NaN</td>\n",
       "      <td>NaN</td>\n",
       "      <td>NaN</td>\n",
       "      <td>NaN</td>\n",
       "      <td>NaN</td>\n",
       "      <td>NaN</td>\n",
       "      <td>NaN</td>\n",
       "    </tr>\n",
       "    <tr>\n",
       "      <th>2</th>\n",
       "      <td>2</td>\n",
       "      <td>Pinocchio</td>\n",
       "      <td>Walt Disney Productions</td>\n",
       "      <td>['February 7, 1940 ( Center Theatre )', 'Febru...</td>\n",
       "      <td>88 minutes</td>\n",
       "      <td>United States</td>\n",
       "      <td>English</td>\n",
       "      <td>$164 million</td>\n",
       "      <td>88.0</td>\n",
       "      <td>2600000.0</td>\n",
       "      <td>...</td>\n",
       "      <td>NaN</td>\n",
       "      <td>NaN</td>\n",
       "      <td>NaN</td>\n",
       "      <td>NaN</td>\n",
       "      <td>NaN</td>\n",
       "      <td>NaN</td>\n",
       "      <td>NaN</td>\n",
       "      <td>NaN</td>\n",
       "      <td>NaN</td>\n",
       "      <td>NaN</td>\n",
       "    </tr>\n",
       "    <tr>\n",
       "      <th>3</th>\n",
       "      <td>3</td>\n",
       "      <td>Fantasia</td>\n",
       "      <td>Walt Disney Productions</td>\n",
       "      <td>['November 13, 1940']</td>\n",
       "      <td>126 minutes</td>\n",
       "      <td>United States</td>\n",
       "      <td>English</td>\n",
       "      <td>$76.4–$83.3 million (United States and Canada)</td>\n",
       "      <td>126.0</td>\n",
       "      <td>2280000.0</td>\n",
       "      <td>...</td>\n",
       "      <td>NaN</td>\n",
       "      <td>NaN</td>\n",
       "      <td>NaN</td>\n",
       "      <td>NaN</td>\n",
       "      <td>NaN</td>\n",
       "      <td>NaN</td>\n",
       "      <td>NaN</td>\n",
       "      <td>NaN</td>\n",
       "      <td>NaN</td>\n",
       "      <td>NaN</td>\n",
       "    </tr>\n",
       "    <tr>\n",
       "      <th>4</th>\n",
       "      <td>4</td>\n",
       "      <td>The Reluctant Dragon</td>\n",
       "      <td>Walt Disney Productions</td>\n",
       "      <td>['June 27, 1941']</td>\n",
       "      <td>74 minutes</td>\n",
       "      <td>United States</td>\n",
       "      <td>English</td>\n",
       "      <td>$960,000 (worldwide rentals)</td>\n",
       "      <td>74.0</td>\n",
       "      <td>600000.0</td>\n",
       "      <td>...</td>\n",
       "      <td>NaN</td>\n",
       "      <td>NaN</td>\n",
       "      <td>NaN</td>\n",
       "      <td>NaN</td>\n",
       "      <td>NaN</td>\n",
       "      <td>NaN</td>\n",
       "      <td>NaN</td>\n",
       "      <td>NaN</td>\n",
       "      <td>NaN</td>\n",
       "      <td>NaN</td>\n",
       "    </tr>\n",
       "  </tbody>\n",
       "</table>\n",
       "<p>5 rows × 35 columns</p>\n",
       "</div>"
      ],
      "text/plain": [
       "   Unnamed: 0                            title       Production company  \\\n",
       "0           0          Academy Award Review of  Walt Disney Productions   \n",
       "1           1  Snow White and the Seven Dwarfs  Walt Disney Productions   \n",
       "2           2                        Pinocchio  Walt Disney Productions   \n",
       "3           3                         Fantasia  Walt Disney Productions   \n",
       "4           4             The Reluctant Dragon  Walt Disney Productions   \n",
       "\n",
       "                                        Release date  \\\n",
       "0                                   ['May 19, 1937']   \n",
       "1   ['December 21, 1937 ( Carthay Circle Theatre )']   \n",
       "2  ['February 7, 1940 ( Center Theatre )', 'Febru...   \n",
       "3                              ['November 13, 1940']   \n",
       "4                                  ['June 27, 1941']   \n",
       "\n",
       "                           Running time        Country Language  \\\n",
       "0  41 minutes (74 minutes 1966 release)  United States  English   \n",
       "1                            83 minutes  United States  English   \n",
       "2                            88 minutes  United States  English   \n",
       "3                           126 minutes  United States  English   \n",
       "4                            74 minutes  United States  English   \n",
       "\n",
       "                                       Box office  Running time (int)  \\\n",
       "0                                         $45.472                41.0   \n",
       "1                                    $418 million                83.0   \n",
       "2                                    $164 million                88.0   \n",
       "3  $76.4–$83.3 million (United States and Canada)               126.0   \n",
       "4                    $960,000 (worldwide rentals)                74.0   \n",
       "\n",
       "   Budget (float)  ...  Screenplay by Countries Production companies  \\\n",
       "0             NaN  ...            NaN       NaN                  NaN   \n",
       "1       1490000.0  ...            NaN       NaN                  NaN   \n",
       "2       2600000.0  ...            NaN       NaN                  NaN   \n",
       "3       2280000.0  ...            NaN       NaN                  NaN   \n",
       "4        600000.0  ...            NaN       NaN                  NaN   \n",
       "\n",
       "  Color process Japanese Hepburn Adaptation by Animation by Traditional  \\\n",
       "0           NaN      NaN     NaN           NaN          NaN         NaN   \n",
       "1           NaN      NaN     NaN           NaN          NaN         NaN   \n",
       "2           NaN      NaN     NaN           NaN          NaN         NaN   \n",
       "3           NaN      NaN     NaN           NaN          NaN         NaN   \n",
       "4           NaN      NaN     NaN           NaN          NaN         NaN   \n",
       "\n",
       "  Simplified  \n",
       "0        NaN  \n",
       "1        NaN  \n",
       "2        NaN  \n",
       "3        NaN  \n",
       "4        NaN  \n",
       "\n",
       "[5 rows x 35 columns]"
      ]
     },
     "execution_count": 370,
     "metadata": {},
     "output_type": "execute_result"
    }
   ],
   "source": [
    "df['Production company'] = df['Production company'].fillna(df['Production company'].value_counts())\n",
    "df.head(5)"
   ]
  },
  {
   "cell_type": "code",
   "execution_count": 371,
   "metadata": {},
   "outputs": [
    {
     "name": "stdout",
     "output_type": "stream",
     "text": [
      "Language\n",
      "English     412\n",
      "Hindi         7\n",
      "Japanese      5\n",
      "German        2\n",
      "Russian       2\n",
      "French        2\n",
      "Chinese       1\n",
      "Telugu        1\n",
      "Spanish       1\n",
      "Name: count, dtype: int64\n"
     ]
    }
   ],
   "source": [
    "df['Language'].unique()\n",
    "print(df['Language'].value_counts())\n",
    "\n",
    "df['Language'] = df['Language'].fillna(df['Language'].value_counts())"
   ]
  },
  {
   "cell_type": "code",
   "execution_count": 372,
   "metadata": {},
   "outputs": [
    {
     "data": {
      "text/plain": [
       "Unnamed: 0                   0\n",
       "title                        0\n",
       "Production company         262\n",
       "Release date                 5\n",
       "Running time                12\n",
       "Country                     49\n",
       "Language                    19\n",
       "Box office                  80\n",
       "Running time (int)          12\n",
       "Budget (float)             168\n",
       "Box office (float)          87\n",
       "Release date (datetime)     10\n",
       "Directed by                  1\n",
       "Written by                 248\n",
       "Based on                   217\n",
       "Produced by                  9\n",
       "Starring                    35\n",
       "Music by                     6\n",
       "Distributed by               2\n",
       "Budget                     162\n",
       "Story by                   302\n",
       "Narrated by                396\n",
       "Cinematography              92\n",
       "Edited by                   43\n",
       "Languages                  434\n",
       "Screenplay by              241\n",
       "Countries                  406\n",
       "Production companies       190\n",
       "Color process              449\n",
       "Japanese                   452\n",
       "Hepburn                    447\n",
       "Adaptation by              451\n",
       "Animation by               450\n",
       "Traditional                452\n",
       "Simplified                 452\n",
       "dtype: int64"
      ]
     },
     "execution_count": 372,
     "metadata": {},
     "output_type": "execute_result"
    }
   ],
   "source": [
    "df.head()\n",
    "df.isnull().sum()"
   ]
  },
  {
   "cell_type": "code",
   "execution_count": 373,
   "metadata": {},
   "outputs": [],
   "source": [
    "# removing columns with many nan values\n",
    "drop_col = [\"Narrated by\",\"Story by\",\"Production company\",\n",
    "            \"Running time\",\"Budget\",\"Based on\",\n",
    "            \"Languages\",\"Countries\",\"Color process\",\n",
    "            \"Japanese\",\"Hepburn\",\"Adaptation by\",\n",
    "            \"Animation by\",\"Traditional\",\"Simplified\",\"Release date\"]\n",
    "df.drop(drop_col, axis=1,inplace=True)"
   ]
  },
  {
   "cell_type": "code",
   "execution_count": 374,
   "metadata": {},
   "outputs": [],
   "source": [
    "#handling missing values\n",
    "df['Box office (float)'] = df['Box office (float)'].fillna(0)\n",
    "df['Budget (float)'] = df['Budget (float)'].fillna(df['Budget (float)'].median()) "
   ]
  },
  {
   "cell_type": "code",
   "execution_count": 375,
   "metadata": {},
   "outputs": [],
   "source": [
    "df['Release date (datetime)'] = pd.to_datetime(df['Release date (datetime)'])\n",
    "df['Release Year'] = df['Release date (datetime)'].dt.year"
   ]
  },
  {
   "cell_type": "code",
   "execution_count": 376,
   "metadata": {},
   "outputs": [
    {
     "data": {
      "text/plain": [
       "(452, 20)"
      ]
     },
     "execution_count": 376,
     "metadata": {},
     "output_type": "execute_result"
    }
   ],
   "source": [
    "df.shape"
   ]
  },
  {
   "cell_type": "code",
   "execution_count": 377,
   "metadata": {},
   "outputs": [
    {
     "data": {
      "text/html": [
       "<div>\n",
       "<style scoped>\n",
       "    .dataframe tbody tr th:only-of-type {\n",
       "        vertical-align: middle;\n",
       "    }\n",
       "\n",
       "    .dataframe tbody tr th {\n",
       "        vertical-align: top;\n",
       "    }\n",
       "\n",
       "    .dataframe thead th {\n",
       "        text-align: right;\n",
       "    }\n",
       "</style>\n",
       "<table border=\"1\" class=\"dataframe\">\n",
       "  <thead>\n",
       "    <tr style=\"text-align: right;\">\n",
       "      <th></th>\n",
       "      <th>Unnamed: 0</th>\n",
       "      <th>title</th>\n",
       "      <th>Country</th>\n",
       "      <th>Language</th>\n",
       "      <th>Box office</th>\n",
       "      <th>Running time (int)</th>\n",
       "      <th>Budget (float)</th>\n",
       "      <th>Box office (float)</th>\n",
       "      <th>Release date (datetime)</th>\n",
       "      <th>Directed by</th>\n",
       "      <th>Written by</th>\n",
       "      <th>Produced by</th>\n",
       "      <th>Starring</th>\n",
       "      <th>Music by</th>\n",
       "      <th>Distributed by</th>\n",
       "      <th>Cinematography</th>\n",
       "      <th>Edited by</th>\n",
       "      <th>Screenplay by</th>\n",
       "      <th>Production companies</th>\n",
       "      <th>Release Year</th>\n",
       "    </tr>\n",
       "  </thead>\n",
       "  <tbody>\n",
       "    <tr>\n",
       "      <th>0</th>\n",
       "      <td>False</td>\n",
       "      <td>False</td>\n",
       "      <td>False</td>\n",
       "      <td>False</td>\n",
       "      <td>False</td>\n",
       "      <td>False</td>\n",
       "      <td>False</td>\n",
       "      <td>False</td>\n",
       "      <td>False</td>\n",
       "      <td>True</td>\n",
       "      <td>True</td>\n",
       "      <td>True</td>\n",
       "      <td>True</td>\n",
       "      <td>True</td>\n",
       "      <td>True</td>\n",
       "      <td>True</td>\n",
       "      <td>True</td>\n",
       "      <td>True</td>\n",
       "      <td>True</td>\n",
       "      <td>False</td>\n",
       "    </tr>\n",
       "    <tr>\n",
       "      <th>1</th>\n",
       "      <td>False</td>\n",
       "      <td>False</td>\n",
       "      <td>False</td>\n",
       "      <td>False</td>\n",
       "      <td>False</td>\n",
       "      <td>False</td>\n",
       "      <td>False</td>\n",
       "      <td>False</td>\n",
       "      <td>False</td>\n",
       "      <td>False</td>\n",
       "      <td>False</td>\n",
       "      <td>False</td>\n",
       "      <td>False</td>\n",
       "      <td>False</td>\n",
       "      <td>False</td>\n",
       "      <td>True</td>\n",
       "      <td>True</td>\n",
       "      <td>True</td>\n",
       "      <td>True</td>\n",
       "      <td>False</td>\n",
       "    </tr>\n",
       "    <tr>\n",
       "      <th>2</th>\n",
       "      <td>False</td>\n",
       "      <td>False</td>\n",
       "      <td>False</td>\n",
       "      <td>False</td>\n",
       "      <td>False</td>\n",
       "      <td>False</td>\n",
       "      <td>False</td>\n",
       "      <td>False</td>\n",
       "      <td>False</td>\n",
       "      <td>False</td>\n",
       "      <td>True</td>\n",
       "      <td>False</td>\n",
       "      <td>False</td>\n",
       "      <td>False</td>\n",
       "      <td>False</td>\n",
       "      <td>True</td>\n",
       "      <td>True</td>\n",
       "      <td>True</td>\n",
       "      <td>True</td>\n",
       "      <td>False</td>\n",
       "    </tr>\n",
       "    <tr>\n",
       "      <th>3</th>\n",
       "      <td>False</td>\n",
       "      <td>False</td>\n",
       "      <td>False</td>\n",
       "      <td>False</td>\n",
       "      <td>False</td>\n",
       "      <td>False</td>\n",
       "      <td>False</td>\n",
       "      <td>False</td>\n",
       "      <td>False</td>\n",
       "      <td>False</td>\n",
       "      <td>True</td>\n",
       "      <td>False</td>\n",
       "      <td>False</td>\n",
       "      <td>False</td>\n",
       "      <td>False</td>\n",
       "      <td>False</td>\n",
       "      <td>True</td>\n",
       "      <td>True</td>\n",
       "      <td>True</td>\n",
       "      <td>False</td>\n",
       "    </tr>\n",
       "    <tr>\n",
       "      <th>4</th>\n",
       "      <td>False</td>\n",
       "      <td>False</td>\n",
       "      <td>False</td>\n",
       "      <td>False</td>\n",
       "      <td>False</td>\n",
       "      <td>False</td>\n",
       "      <td>False</td>\n",
       "      <td>False</td>\n",
       "      <td>False</td>\n",
       "      <td>False</td>\n",
       "      <td>False</td>\n",
       "      <td>False</td>\n",
       "      <td>False</td>\n",
       "      <td>False</td>\n",
       "      <td>False</td>\n",
       "      <td>False</td>\n",
       "      <td>False</td>\n",
       "      <td>True</td>\n",
       "      <td>True</td>\n",
       "      <td>False</td>\n",
       "    </tr>\n",
       "    <tr>\n",
       "      <th>...</th>\n",
       "      <td>...</td>\n",
       "      <td>...</td>\n",
       "      <td>...</td>\n",
       "      <td>...</td>\n",
       "      <td>...</td>\n",
       "      <td>...</td>\n",
       "      <td>...</td>\n",
       "      <td>...</td>\n",
       "      <td>...</td>\n",
       "      <td>...</td>\n",
       "      <td>...</td>\n",
       "      <td>...</td>\n",
       "      <td>...</td>\n",
       "      <td>...</td>\n",
       "      <td>...</td>\n",
       "      <td>...</td>\n",
       "      <td>...</td>\n",
       "      <td>...</td>\n",
       "      <td>...</td>\n",
       "      <td>...</td>\n",
       "    </tr>\n",
       "    <tr>\n",
       "      <th>447</th>\n",
       "      <td>False</td>\n",
       "      <td>False</td>\n",
       "      <td>False</td>\n",
       "      <td>False</td>\n",
       "      <td>True</td>\n",
       "      <td>True</td>\n",
       "      <td>False</td>\n",
       "      <td>False</td>\n",
       "      <td>True</td>\n",
       "      <td>False</td>\n",
       "      <td>True</td>\n",
       "      <td>False</td>\n",
       "      <td>False</td>\n",
       "      <td>False</td>\n",
       "      <td>False</td>\n",
       "      <td>False</td>\n",
       "      <td>True</td>\n",
       "      <td>False</td>\n",
       "      <td>False</td>\n",
       "      <td>True</td>\n",
       "    </tr>\n",
       "    <tr>\n",
       "      <th>448</th>\n",
       "      <td>False</td>\n",
       "      <td>False</td>\n",
       "      <td>False</td>\n",
       "      <td>False</td>\n",
       "      <td>False</td>\n",
       "      <td>False</td>\n",
       "      <td>False</td>\n",
       "      <td>False</td>\n",
       "      <td>False</td>\n",
       "      <td>False</td>\n",
       "      <td>True</td>\n",
       "      <td>False</td>\n",
       "      <td>False</td>\n",
       "      <td>False</td>\n",
       "      <td>False</td>\n",
       "      <td>False</td>\n",
       "      <td>False</td>\n",
       "      <td>False</td>\n",
       "      <td>True</td>\n",
       "      <td>False</td>\n",
       "    </tr>\n",
       "    <tr>\n",
       "      <th>449</th>\n",
       "      <td>False</td>\n",
       "      <td>False</td>\n",
       "      <td>False</td>\n",
       "      <td>False</td>\n",
       "      <td>True</td>\n",
       "      <td>True</td>\n",
       "      <td>False</td>\n",
       "      <td>False</td>\n",
       "      <td>True</td>\n",
       "      <td>False</td>\n",
       "      <td>True</td>\n",
       "      <td>False</td>\n",
       "      <td>False</td>\n",
       "      <td>True</td>\n",
       "      <td>False</td>\n",
       "      <td>True</td>\n",
       "      <td>True</td>\n",
       "      <td>False</td>\n",
       "      <td>False</td>\n",
       "      <td>True</td>\n",
       "    </tr>\n",
       "    <tr>\n",
       "      <th>450</th>\n",
       "      <td>False</td>\n",
       "      <td>False</td>\n",
       "      <td>False</td>\n",
       "      <td>False</td>\n",
       "      <td>True</td>\n",
       "      <td>True</td>\n",
       "      <td>False</td>\n",
       "      <td>False</td>\n",
       "      <td>True</td>\n",
       "      <td>False</td>\n",
       "      <td>True</td>\n",
       "      <td>False</td>\n",
       "      <td>False</td>\n",
       "      <td>False</td>\n",
       "      <td>False</td>\n",
       "      <td>False</td>\n",
       "      <td>True</td>\n",
       "      <td>False</td>\n",
       "      <td>False</td>\n",
       "      <td>True</td>\n",
       "    </tr>\n",
       "    <tr>\n",
       "      <th>451</th>\n",
       "      <td>False</td>\n",
       "      <td>False</td>\n",
       "      <td>False</td>\n",
       "      <td>False</td>\n",
       "      <td>True</td>\n",
       "      <td>True</td>\n",
       "      <td>False</td>\n",
       "      <td>False</td>\n",
       "      <td>True</td>\n",
       "      <td>False</td>\n",
       "      <td>True</td>\n",
       "      <td>False</td>\n",
       "      <td>False</td>\n",
       "      <td>True</td>\n",
       "      <td>False</td>\n",
       "      <td>True</td>\n",
       "      <td>True</td>\n",
       "      <td>False</td>\n",
       "      <td>False</td>\n",
       "      <td>True</td>\n",
       "    </tr>\n",
       "  </tbody>\n",
       "</table>\n",
       "<p>452 rows × 20 columns</p>\n",
       "</div>"
      ],
      "text/plain": [
       "     Unnamed: 0  title  Country  Language  Box office  Running time (int)  \\\n",
       "0         False  False    False     False       False               False   \n",
       "1         False  False    False     False       False               False   \n",
       "2         False  False    False     False       False               False   \n",
       "3         False  False    False     False       False               False   \n",
       "4         False  False    False     False       False               False   \n",
       "..          ...    ...      ...       ...         ...                 ...   \n",
       "447       False  False    False     False        True                True   \n",
       "448       False  False    False     False       False               False   \n",
       "449       False  False    False     False        True                True   \n",
       "450       False  False    False     False        True                True   \n",
       "451       False  False    False     False        True                True   \n",
       "\n",
       "     Budget (float)  Box office (float)  Release date (datetime)  Directed by  \\\n",
       "0             False               False                    False         True   \n",
       "1             False               False                    False        False   \n",
       "2             False               False                    False        False   \n",
       "3             False               False                    False        False   \n",
       "4             False               False                    False        False   \n",
       "..              ...                 ...                      ...          ...   \n",
       "447           False               False                     True        False   \n",
       "448           False               False                    False        False   \n",
       "449           False               False                     True        False   \n",
       "450           False               False                     True        False   \n",
       "451           False               False                     True        False   \n",
       "\n",
       "     Written by  Produced by  Starring  Music by  Distributed by  \\\n",
       "0          True         True      True      True            True   \n",
       "1         False        False     False     False           False   \n",
       "2          True        False     False     False           False   \n",
       "3          True        False     False     False           False   \n",
       "4         False        False     False     False           False   \n",
       "..          ...          ...       ...       ...             ...   \n",
       "447        True        False     False     False           False   \n",
       "448        True        False     False     False           False   \n",
       "449        True        False     False      True           False   \n",
       "450        True        False     False     False           False   \n",
       "451        True        False     False      True           False   \n",
       "\n",
       "     Cinematography  Edited by  Screenplay by  Production companies  \\\n",
       "0              True       True           True                  True   \n",
       "1              True       True           True                  True   \n",
       "2              True       True           True                  True   \n",
       "3             False       True           True                  True   \n",
       "4             False      False           True                  True   \n",
       "..              ...        ...            ...                   ...   \n",
       "447           False       True          False                 False   \n",
       "448           False      False          False                  True   \n",
       "449            True       True          False                 False   \n",
       "450           False       True          False                 False   \n",
       "451            True       True          False                 False   \n",
       "\n",
       "     Release Year  \n",
       "0           False  \n",
       "1           False  \n",
       "2           False  \n",
       "3           False  \n",
       "4           False  \n",
       "..            ...  \n",
       "447          True  \n",
       "448         False  \n",
       "449          True  \n",
       "450          True  \n",
       "451          True  \n",
       "\n",
       "[452 rows x 20 columns]"
      ]
     },
     "execution_count": 377,
     "metadata": {},
     "output_type": "execute_result"
    }
   ],
   "source": [
    "df.isnull()"
   ]
  },
  {
   "cell_type": "code",
   "execution_count": 378,
   "metadata": {},
   "outputs": [
    {
     "data": {
      "text/plain": [
       "Unnamed: 0                   0\n",
       "title                        0\n",
       "Country                     49\n",
       "Language                    19\n",
       "Box office                  80\n",
       "Running time (int)          12\n",
       "Budget (float)               0\n",
       "Box office (float)           0\n",
       "Release date (datetime)     10\n",
       "Directed by                  1\n",
       "Written by                 248\n",
       "Produced by                  9\n",
       "Starring                    35\n",
       "Music by                     6\n",
       "Distributed by               2\n",
       "Cinematography              92\n",
       "Edited by                   43\n",
       "Screenplay by              241\n",
       "Production companies       190\n",
       "Release Year                10\n",
       "dtype: int64"
      ]
     },
     "execution_count": 378,
     "metadata": {},
     "output_type": "execute_result"
    }
   ],
   "source": [
    "df.isnull().sum()"
   ]
  },
  {
   "cell_type": "markdown",
   "metadata": {},
   "source": [
    "# *Statistical data*"
   ]
  },
  {
   "cell_type": "code",
   "execution_count": 379,
   "metadata": {},
   "outputs": [
    {
     "data": {
      "text/html": [
       "<div>\n",
       "<style scoped>\n",
       "    .dataframe tbody tr th:only-of-type {\n",
       "        vertical-align: middle;\n",
       "    }\n",
       "\n",
       "    .dataframe tbody tr th {\n",
       "        vertical-align: top;\n",
       "    }\n",
       "\n",
       "    .dataframe thead th {\n",
       "        text-align: right;\n",
       "    }\n",
       "</style>\n",
       "<table border=\"1\" class=\"dataframe\">\n",
       "  <thead>\n",
       "    <tr style=\"text-align: right;\">\n",
       "      <th></th>\n",
       "      <th>Unnamed: 0</th>\n",
       "      <th>Running time (int)</th>\n",
       "      <th>Budget (float)</th>\n",
       "      <th>Box office (float)</th>\n",
       "      <th>Release date (datetime)</th>\n",
       "      <th>Release Year</th>\n",
       "    </tr>\n",
       "  </thead>\n",
       "  <tbody>\n",
       "    <tr>\n",
       "      <th>count</th>\n",
       "      <td>452.000000</td>\n",
       "      <td>440.000000</td>\n",
       "      <td>4.520000e+02</td>\n",
       "      <td>4.520000e+02</td>\n",
       "      <td>442</td>\n",
       "      <td>442.000000</td>\n",
       "    </tr>\n",
       "    <tr>\n",
       "      <th>mean</th>\n",
       "      <td>225.500000</td>\n",
       "      <td>97.813636</td>\n",
       "      <td>5.128584e+07</td>\n",
       "      <td>1.339938e+08</td>\n",
       "      <td>1991-12-19 00:55:23.076923136</td>\n",
       "      <td>1991.443439</td>\n",
       "    </tr>\n",
       "    <tr>\n",
       "      <th>min</th>\n",
       "      <td>0.000000</td>\n",
       "      <td>40.000000</td>\n",
       "      <td>3.000000e+05</td>\n",
       "      <td>0.000000e+00</td>\n",
       "      <td>1937-05-19 00:00:00</td>\n",
       "      <td>1937.000000</td>\n",
       "    </tr>\n",
       "    <tr>\n",
       "      <th>25%</th>\n",
       "      <td>112.750000</td>\n",
       "      <td>86.750000</td>\n",
       "      <td>2.200000e+07</td>\n",
       "      <td>2.075000e+06</td>\n",
       "      <td>1973-11-17 00:00:00</td>\n",
       "      <td>1973.000000</td>\n",
       "    </tr>\n",
       "    <tr>\n",
       "      <th>50%</th>\n",
       "      <td>225.500000</td>\n",
       "      <td>96.000000</td>\n",
       "      <td>3.000000e+07</td>\n",
       "      <td>2.300000e+07</td>\n",
       "      <td>1997-09-05 00:00:00</td>\n",
       "      <td>1997.000000</td>\n",
       "    </tr>\n",
       "    <tr>\n",
       "      <th>75%</th>\n",
       "      <td>338.250000</td>\n",
       "      <td>107.000000</td>\n",
       "      <td>4.600000e+07</td>\n",
       "      <td>1.438000e+08</td>\n",
       "      <td>2009-10-26 00:00:00</td>\n",
       "      <td>2009.000000</td>\n",
       "    </tr>\n",
       "    <tr>\n",
       "      <th>max</th>\n",
       "      <td>451.000000</td>\n",
       "      <td>167.000000</td>\n",
       "      <td>4.106000e+08</td>\n",
       "      <td>1.657000e+09</td>\n",
       "      <td>2023-05-26 00:00:00</td>\n",
       "      <td>2023.000000</td>\n",
       "    </tr>\n",
       "    <tr>\n",
       "      <th>std</th>\n",
       "      <td>130.625419</td>\n",
       "      <td>18.958576</td>\n",
       "      <td>5.890978e+07</td>\n",
       "      <td>2.523026e+08</td>\n",
       "      <td>NaN</td>\n",
       "      <td>21.931510</td>\n",
       "    </tr>\n",
       "  </tbody>\n",
       "</table>\n",
       "</div>"
      ],
      "text/plain": [
       "       Unnamed: 0  Running time (int)  Budget (float)  Box office (float)  \\\n",
       "count  452.000000          440.000000    4.520000e+02        4.520000e+02   \n",
       "mean   225.500000           97.813636    5.128584e+07        1.339938e+08   \n",
       "min      0.000000           40.000000    3.000000e+05        0.000000e+00   \n",
       "25%    112.750000           86.750000    2.200000e+07        2.075000e+06   \n",
       "50%    225.500000           96.000000    3.000000e+07        2.300000e+07   \n",
       "75%    338.250000          107.000000    4.600000e+07        1.438000e+08   \n",
       "max    451.000000          167.000000    4.106000e+08        1.657000e+09   \n",
       "std    130.625419           18.958576    5.890978e+07        2.523026e+08   \n",
       "\n",
       "             Release date (datetime)  Release Year  \n",
       "count                            442    442.000000  \n",
       "mean   1991-12-19 00:55:23.076923136   1991.443439  \n",
       "min              1937-05-19 00:00:00   1937.000000  \n",
       "25%              1973-11-17 00:00:00   1973.000000  \n",
       "50%              1997-09-05 00:00:00   1997.000000  \n",
       "75%              2009-10-26 00:00:00   2009.000000  \n",
       "max              2023-05-26 00:00:00   2023.000000  \n",
       "std                              NaN     21.931510  "
      ]
     },
     "execution_count": 379,
     "metadata": {},
     "output_type": "execute_result"
    }
   ],
   "source": [
    "df.describe()"
   ]
  },
  {
   "cell_type": "code",
   "execution_count": 380,
   "metadata": {},
   "outputs": [
    {
     "name": "stdout",
     "output_type": "stream",
     "text": [
      "133993810.63754867\n"
     ]
    }
   ],
   "source": [
    "mean = df['Box office (float)'].mean()\n",
    "print(mean)"
   ]
  },
  {
   "cell_type": "code",
   "execution_count": 381,
   "metadata": {},
   "outputs": [
    {
     "name": "stdout",
     "output_type": "stream",
     "text": [
      "23000000.0\n"
     ]
    }
   ],
   "source": [
    "median = df['Box office (float)'].median()\n",
    "print(median)"
   ]
  },
  {
   "cell_type": "code",
   "execution_count": 382,
   "metadata": {},
   "outputs": [
    {
     "name": "stdout",
     "output_type": "stream",
     "text": [
      "0    0.0\n",
      "Name: Box office (float), dtype: float64\n"
     ]
    }
   ],
   "source": [
    "mode = df['Box office (float)'].mode()\n",
    "print(mode)"
   ]
  },
  {
   "cell_type": "markdown",
   "metadata": {},
   "source": [
    "I have found mean > median > mode. So, the distribution of Box office is postively skewed."
   ]
  },
  {
   "cell_type": "code",
   "execution_count": 383,
   "metadata": {},
   "outputs": [
    {
     "data": {
      "text/plain": [
       "0.0"
      ]
     },
     "execution_count": 383,
     "metadata": {},
     "output_type": "execute_result"
    }
   ],
   "source": [
    "#Minimum value\n",
    "df['Box office (float)'].min()"
   ]
  },
  {
   "cell_type": "code",
   "execution_count": 384,
   "metadata": {},
   "outputs": [
    {
     "data": {
      "text/plain": [
       "1657000000.0"
      ]
     },
     "execution_count": 384,
     "metadata": {},
     "output_type": "execute_result"
    }
   ],
   "source": [
    "#Maximum value\n",
    "df['Box office (float)'].max()"
   ]
  },
  {
   "cell_type": "code",
   "execution_count": 385,
   "metadata": {},
   "outputs": [
    {
     "data": {
      "text/plain": [
       "1657000000.0"
      ]
     },
     "execution_count": 385,
     "metadata": {},
     "output_type": "execute_result"
    }
   ],
   "source": [
    "#Range\n",
    "df['Box office (float)'].max() - df['Box office (float)'].min()"
   ]
  },
  {
   "cell_type": "code",
   "execution_count": 386,
   "metadata": {},
   "outputs": [
    {
     "data": {
      "text/plain": [
       "6.365660617709568e+16"
      ]
     },
     "execution_count": 386,
     "metadata": {},
     "output_type": "execute_result"
    }
   ],
   "source": [
    "# Variance\n",
    "df['Box office (float)'].var()"
   ]
  },
  {
   "cell_type": "code",
   "execution_count": 387,
   "metadata": {},
   "outputs": [
    {
     "data": {
      "text/plain": [
       "252302608.3438213"
      ]
     },
     "execution_count": 387,
     "metadata": {},
     "output_type": "execute_result"
    }
   ],
   "source": [
    "# Standard Deviation\n",
    "df['Box office (float)'].std()"
   ]
  },
  {
   "cell_type": "markdown",
   "metadata": {},
   "source": [
    "# *Performing EDA*"
   ]
  },
  {
   "cell_type": "code",
   "execution_count": 388,
   "metadata": {},
   "outputs": [
    {
     "name": "stdout",
     "output_type": "stream",
     "text": [
      "<class 'pandas.core.frame.DataFrame'>\n",
      "RangeIndex: 452 entries, 0 to 451\n",
      "Data columns (total 20 columns):\n",
      " #   Column                   Non-Null Count  Dtype         \n",
      "---  ------                   --------------  -----         \n",
      " 0   Unnamed: 0               452 non-null    int64         \n",
      " 1   title                    452 non-null    object        \n",
      " 2   Country                  403 non-null    object        \n",
      " 3   Language                 433 non-null    object        \n",
      " 4   Box office               372 non-null    object        \n",
      " 5   Running time (int)       440 non-null    float64       \n",
      " 6   Budget (float)           452 non-null    float64       \n",
      " 7   Box office (float)       452 non-null    float64       \n",
      " 8   Release date (datetime)  442 non-null    datetime64[ns]\n",
      " 9   Directed by              451 non-null    object        \n",
      " 10  Written by               204 non-null    object        \n",
      " 11  Produced by              443 non-null    object        \n",
      " 12  Starring                 417 non-null    object        \n",
      " 13  Music by                 446 non-null    object        \n",
      " 14  Distributed by           450 non-null    object        \n",
      " 15  Cinematography           360 non-null    object        \n",
      " 16  Edited by                409 non-null    object        \n",
      " 17  Screenplay by            211 non-null    object        \n",
      " 18  Production companies     262 non-null    object        \n",
      " 19  Release Year             442 non-null    float64       \n",
      "dtypes: datetime64[ns](1), float64(4), int64(1), object(14)\n",
      "memory usage: 70.8+ KB\n"
     ]
    }
   ],
   "source": [
    "df.info()"
   ]
  },
  {
   "cell_type": "markdown",
   "metadata": {},
   "source": [
    "What is the most frequent language of movies?"
   ]
  },
  {
   "cell_type": "code",
   "execution_count": 389,
   "metadata": {},
   "outputs": [
    {
     "name": "stdout",
     "output_type": "stream",
     "text": [
      "The most frequent language is: English\n"
     ]
    }
   ],
   "source": [
    "print(\"The most frequent language is:\", df['Language'].value_counts().index[0])"
   ]
  },
  {
   "cell_type": "markdown",
   "metadata": {},
   "source": [
    "Which country produces the highest number of movies?"
   ]
  },
  {
   "cell_type": "code",
   "execution_count": 390,
   "metadata": {},
   "outputs": [
    {
     "name": "stdout",
     "output_type": "stream",
     "text": [
      "The country producing highest number of movies is:  United States\n"
     ]
    }
   ],
   "source": [
    "print(\"The country producing highest number of movies is: \", df['Country'].value_counts().index[0])"
   ]
  },
  {
   "cell_type": "markdown",
   "metadata": {},
   "source": [
    "# *Performing EDA*"
   ]
  },
  {
   "cell_type": "code",
   "execution_count": 391,
   "metadata": {},
   "outputs": [
    {
     "data": {
      "image/png": "[encoded data removed]",
      "text/plain": [
       "<Figure size 1000x600 with 1 Axes>"
      ]
     },
     "metadata": {},
     "output_type": "display_data"
    }
   ],
   "source": [
    "# Correlation between budget and box office earnings\n",
    "plt.figure(figsize=(10, 6))\n",
    "plt.scatter(df['Budget (float)'], df['Box office (float)'], color='m')\n",
    "plt.title(\"Budget vs Box Office Earnings\")\n",
    "plt.xlabel(\"Budget (in millions)\")\n",
    "plt.ylabel(\"Box Office Earnings (in millions)\")\n",
    "plt.grid(True)\n",
    "plt.show()\n"
   ]
  },
  {
   "cell_type": "code",
   "execution_count": 392,
   "metadata": {},
   "outputs": [
    {
     "data": {
      "image/png": "[encoded data removed]",
      "text/plain": [
       "<Figure size 1000x600 with 1 Axes>"
      ]
     },
     "metadata": {},
     "output_type": "display_data"
    }
   ],
   "source": [
    "# Top movies by box office\n",
    "plt.figure(figsize=(10, 6))\n",
    "top_movies = df.nlargest(10, 'Box office (float)')\n",
    "sns.barplot(x='Box office (float)', y='title', data=top_movies, palette='viridis', hue='title')\n",
    "plt.title('Top 10 Movies by Box Office Earnings')\n",
    "plt.xlabel('Box Office Earnings (in millions)')\n",
    "plt.ylabel('Movie Title')\n",
    "plt.show()"
   ]
  },
  {
   "cell_type": "code",
   "execution_count": 393,
   "metadata": {},
   "outputs": [
    {
     "data": {
      "image/png": "[encoded data removed]",
      "text/plain": [
       "<Figure size 1000x600 with 1 Axes>"
      ]
     },
     "metadata": {},
     "output_type": "display_data"
    }
   ],
   "source": [
    "# Box office earnings over time\n",
    "plt.figure(figsize=(10, 6))\n",
    "sns.lineplot(x='Release Year', y='Box office (float)', data=df, marker='o')\n",
    "plt.title('Box Office Earnings Over Time')\n",
    "plt.xlabel('Release Year')\n",
    "plt.ylabel('Box Office Earnings (in millions)')\n",
    "plt.grid(True)\n",
    "plt.show()"
   ]
  }
 ],
 "metadata": {
  "kernelspec": {
   "display_name": "Python 3",
   "language": "python",
   "name": "python3"
  },
  "language_info": {
   "codemirror_mode": {
    "name": "ipython",
    "version": 3
   },
   "file_extension": ".py",
   "mimetype": "text/x-python",
   "name": "python",
   "nbconvert_exporter": "python",
   "pygments_lexer": "ipython3",
   "version": "3.12.2"
  }
 },
 "nbformat": 4,
 "nbformat_minor": 2
}
